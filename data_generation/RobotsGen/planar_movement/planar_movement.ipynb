{
 "cells": [
  {
   "attachments": {},
   "cell_type": "markdown",
   "id": "a6b078bf-89ef-4563-a143-a72a776c01c3",
   "metadata": {},
   "source": [
    "# Create a planar robot"
   ]
  },
  {
   "cell_type": "code",
   "execution_count": 1,
   "id": "2d93aabe-0abc-46f2-828d-92f8a62b009d",
   "metadata": {
    "ExecuteTime": {
     "end_time": "2023-06-29T16:17:56.443213421Z",
     "start_time": "2023-06-29T16:17:55.535901173Z"
    }
   },
   "outputs": [
    {
     "name": "stderr",
     "output_type": "stream",
     "text": [
      "2023-06-29 18:17:55,694 Timor INFO Loading custom configurations from /home/lukas/Dokumente/Uni/MasterRCI/Praktikum_RFL_for_RM/code/ident/timor-python/timor.config\n",
      "2023-06-29 18:17:55,796 Timor INFO Skipping PROMODULAR that has already been downloaded.\n",
      "2023-06-29 18:17:55,796 Timor INFO Skipping modrob-gen2 that has already been downloaded.\n"
     ]
    }
   ],
   "source": [
    "from datetime import datetime\n",
    "from pathlib import Path\n",
    "\n",
    "import numpy as np\n",
    "import pinocchio as pin\n",
    "\n",
    "from timor.Bodies import Body, Connector, Gender\n",
    "from timor.Joints import Joint\n",
    "from timor.Module import AtomicModule, ModuleAssembly, ModulesDB, ModuleHeader\n",
    "from timor.Geometry import Box, ComposedGeometry, Cylinder, Sphere\n",
    "from timor.utilities.transformation import Transformation\n",
    "from timor.utilities.spatial import rotX, rotY, rotZ"
   ]
  },
  {
   "attachments": {},
   "cell_type": "markdown",
   "id": "eaf12558-9cc5-4d4a-9b93-34fbacd2a133",
   "metadata": {},
   "source": [
    "## The following code is taken from the create_some_modules tutorial, so you should have gone through that first to understand what's going on here"
   ]
  },
  {
   "cell_type": "code",
   "execution_count": 2,
   "id": "e87e26e8-a439-4ae5-8b29-70817de5f995",
   "metadata": {
    "ExecuteTime": {
     "end_time": "2023-06-29T16:17:56.446887913Z",
     "start_time": "2023-06-29T16:17:56.445923665Z"
    }
   },
   "outputs": [],
   "source": [
    "connector_size = 1  # Doesn't matter as long as it is the same for all connectors\n",
    "ROT_X = Transformation(rotX(np.pi))"
   ]
  },
  {
   "cell_type": "code",
   "execution_count": 3,
   "id": "53e96d65-df79-4bc1-a0a6-d5d27e134bd7",
   "metadata": {
    "ExecuteTime": {
     "end_time": "2023-06-29T16:17:56.453981271Z",
     "start_time": "2023-06-29T16:17:56.446345455Z"
    }
   },
   "outputs": [],
   "source": [
    "def base() -> ModulesDB:\n",
    "    \"\"\"\n",
    "    Creates a base connector attached to an empty body. The output connector is pointing in positive x-direction to keep it basically planar.\n",
    "    \"\"\"\n",
    "    l = 0  # No geometry\n",
    "    geometry = Box({'x': l, 'y': l, 'z': l}, pose=Transformation.from_translation([0, 0, l / 2]))\n",
    "    c_world = Connector('base', ROT_X, gender=Gender.f, connector_type='base', size=connector_size)\n",
    "    # How to orient the connector?\n",
    "    # - It has to \"point away\" from our module\n",
    "    # - The z-axis of the connector should be aligned with the global x-axis\n",
    "    # - We assume the body coordinate system to be aligned with the global coordinate system for the base, so:\n",
    "    c_robot = Connector('base2robot', gender=Gender.m, connector_type='default', size=connector_size,\n",
    "                        body2connector=Transformation.from_translation([l / 2, 0, l / 2]) @ rotY(np.pi / 2) @ rotZ(np.pi))  # The rotZ is just \"cosmetics\"\n",
    "    return ModulesDB({AtomicModule(ModuleHeader(ID='base', name='Base'),[Body('base', collision=geometry, connectors=[c_world, c_robot])])})\n",
    "\n",
    "\n",
    "def eef() -> ModulesDB:\n",
    "    \"\"\"Creates an end effector that's basically just a small sphere (nice for visualization).\"\"\"\n",
    "    diameter = .1\n",
    "    geometry = Sphere({'r': diameter}, pose=Transformation.from_translation([0, 0, diameter / 2]))\n",
    "    c_robot = Connector('robot2eef', ROT_X, gender=Gender.f, connector_type='default', size=connector_size)\n",
    "    c_world = Connector('end-effector', gender=Gender.m, connector_type='eef',\n",
    "                        body2connector=Transformation.from_translation([0, 0, diameter / 2]))\n",
    "    return ModulesDB({AtomicModule(ModuleHeader(ID='eef', name='Demo EEF'), [Body('EEF', collision=geometry, connectors=[c_robot, c_world])])})\n",
    "\n",
    "\n",
    "def i_links(sizes) -> ModulesDB:\n",
    "    \"\"\"Create I links with a certain lengths.\"\"\"\n",
    "    links = ModulesDB()\n",
    "    diameter = .1\n",
    "    \n",
    "    for size in sizes:\n",
    "        module_header = ModuleHeader(ID='i_{}'.format(int(size * 100)), name='I shaped link {}'.format(int(size * 100)))\n",
    "        connectors = (\n",
    "            Connector(f'{int(diameter * 100)}-{i}',\n",
    "                      ROT_X @ Transformation.from_translation([0, 0, size / 2]) if i == 0\n",
    "                      else Transformation.from_translation([0, 0, size / 2]),\n",
    "                      gender=Gender.f if i == 0 else Gender.m,\n",
    "                      connector_type='default',\n",
    "                      size=connector_size)\n",
    "            for i in range(2)\n",
    "        )\n",
    "        geometry = Cylinder({'r': diameter / 2, 'z': size}, pose=Transformation.from_translation([0, 0, 0]))\n",
    "        body = Body('i_{}'.format(int(size * 100)), collision=geometry, connectors=connectors)\n",
    "        links.add(AtomicModule(module_header, [body]))\n",
    "    return links"
   ]
  },
  {
   "attachments": {},
   "cell_type": "markdown",
   "id": "6347e893-3363-456b-861c-6e46c68f16a1",
   "metadata": {},
   "source": [
    "## Create a planar joint\n",
    "This joint \"lives\" in the xy-plane, so input and output stay in the plane why the rotation happens around the z-axis.\n",
    "\n",
    "This is an \"abstract\" module with no geometric expansion"
   ]
  },
  {
   "cell_type": "code",
   "execution_count": 4,
   "id": "ade56786-0852-4453-8b97-2fd0fcf41094",
   "metadata": {
    "ExecuteTime": {
     "end_time": "2023-06-29T16:17:56.457252998Z",
     "start_time": "2023-06-29T16:17:56.455616859Z"
    }
   },
   "outputs": [],
   "source": [
    "def joint() -> ModulesDB:\n",
    "    length = 0\n",
    "    proximal = Body('J1_proximal', collision=Cylinder({'r': 0, 'z': 0}),\n",
    "                    connectors=[Connector('J1_proximal', ROT_X, gender=Gender.f, connector_type='default', size=connector_size)]\n",
    "                    )\n",
    "    distal = Body('J1_distal', collision=Cylinder({'r': 0, 'z': 0}),\n",
    "                  connectors=[Connector('J1_distal', Transformation.neutral(), gender=Gender.m, connector_type='default', size=connector_size)],\n",
    "                  )\n",
    "    joint = Joint(\n",
    "        joint_id='joint',\n",
    "        joint_type='revolute',\n",
    "        parent_body=proximal,\n",
    "        child_body=distal,\n",
    "        q_limits=[-np.pi, np.pi],  # This is arbitrary\n",
    "        parent2joint=rotY(-np.pi/2),  # Make the rotation axis the global z-Axis\n",
    "        joint2child=rotY(np.pi/2)  # Rotate back to the plane we are \"living\" in\n",
    "    )\n",
    "\n",
    "    module_header = ModuleHeader(ID='J1',name='Prismatic Joint')\n",
    "    return ModulesDB({\n",
    "        AtomicModule(module_header, [proximal, distal], [joint])\n",
    "    })"
   ]
  },
  {
   "cell_type": "code",
   "execution_count": 5,
   "id": "406fd524-c1a0-479f-b51e-d029665f49f1",
   "metadata": {
    "ExecuteTime": {
     "end_time": "2023-06-29T16:17:56.503664437Z",
     "start_time": "2023-06-29T16:17:56.458631023Z"
    }
   },
   "outputs": [
    {
     "name": "stdout",
     "output_type": "stream",
     "text": [
      "You defined the following modules: i_200, J1, i_100, base, i_500, eef\n"
     ]
    }
   ],
   "source": [
    "db = base().union(eef()).union(i_links([1, 2, 5])).union(joint())\n",
    "print(\"You defined the following modules:\", ', '.join(db.by_id))"
   ]
  },
  {
   "cell_type": "code",
   "execution_count": 6,
   "id": "436cee21-e013-448e-9b29-dca1e114db99",
   "metadata": {
    "ExecuteTime": {
     "end_time": "2023-06-29T16:17:56.504039339Z",
     "start_time": "2023-06-29T16:17:56.503491924Z"
    }
   },
   "outputs": [],
   "source": [
    "assembly = ModuleAssembly.from_serial_modules(db, ('base', 'i_200', 'J1', 'i_100'))\n",
    "trajectory = np.linspace(0, np.pi/3, 50).reshape([50, -1])"
   ]
  },
  {
   "cell_type": "code",
   "execution_count": 7,
   "id": "3fdf80ed-d6b2-45d7-81a4-bab9640334c4",
   "metadata": {
    "ExecuteTime": {
     "end_time": "2023-06-29T16:17:56.757640537Z",
     "start_time": "2023-06-29T16:17:56.503954985Z"
    }
   },
   "outputs": [
    {
     "name": "stdout",
     "output_type": "stream",
     "text": [
      "You can open the visualizer by visiting the following URL:\n",
      "http://127.0.0.1:7007/static/\n"
     ]
    }
   ],
   "source": [
    "from timor.utilities.visualization import animation, MeshcatVisualizerWithAnimation\n",
    "viz = MeshcatVisualizerWithAnimation()\n",
    "viz.initViewer()"
   ]
  },
  {
   "cell_type": "code",
   "execution_count": 8,
   "id": "f051ef9b-9057-45c3-9586-d1b0cf9a27f8",
   "metadata": {
    "ExecuteTime": {
     "end_time": "2023-06-29T16:17:56.800965854Z",
     "start_time": "2023-06-29T16:17:56.758722889Z"
    }
   },
   "outputs": [
    {
     "data": {
      "text/plain": "<IPython.core.display.HTML object>",
      "text/html": "\n            <div style=\"height: 800px; width: 100%; overflow-x: auto; overflow-y: hidden; resize: both\">\n            <iframe src=\"http://127.0.0.1:7007/static/\" style=\"width: 100%; height: 100%; border: none\"></iframe>\n            </div>\n            "
     },
     "execution_count": 8,
     "metadata": {},
     "output_type": "execute_result"
    }
   ],
   "source": [
    "animation(assembly.robot, trajectory, visualizer=viz, dt=.1)\n",
    "viz.viewer.jupyter_cell(height=800)"
   ]
  },
  {
   "cell_type": "code",
   "execution_count": 8,
   "id": "ef8f39e8-fb82-4c1d-b223-2f77c19d6b58",
   "metadata": {
    "ExecuteTime": {
     "end_time": "2023-06-29T16:17:56.823280497Z",
     "start_time": "2023-06-29T16:17:56.782209687Z"
    }
   },
   "outputs": [],
   "source": []
  },
  {
   "cell_type": "code",
   "execution_count": 8,
   "id": "6d7b62e6-9294-44fc-88c8-23a245de22b5",
   "metadata": {
    "ExecuteTime": {
     "end_time": "2023-06-29T16:17:56.823566312Z",
     "start_time": "2023-06-29T16:17:56.823041284Z"
    }
   },
   "outputs": [],
   "source": []
  }
 ],
 "metadata": {
  "kernelspec": {
   "display_name": "Python 3 (ipykernel)",
   "language": "python",
   "name": "python3"
  },
  "language_info": {
   "codemirror_mode": {
    "name": "ipython",
    "version": 3
   },
   "file_extension": ".py",
   "mimetype": "text/x-python",
   "name": "python",
   "nbconvert_exporter": "python",
   "pygments_lexer": "ipython3",
   "version": "3.9.16"
  }
 },
 "nbformat": 4,
 "nbformat_minor": 5
}
